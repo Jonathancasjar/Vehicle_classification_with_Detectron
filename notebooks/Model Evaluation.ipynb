{
 "cells": [
  {
   "attachments": {},
   "cell_type": "markdown",
   "id": "d11b9c24",
   "metadata": {},
   "source": [
    "# Vehicle Classification\n",
    "\n",
    "## Evaluate the model\n"
   ]
  },
  {
   "cell_type": "code",
   "execution_count": 1,
   "id": "1205a6a3",
   "metadata": {},
   "outputs": [],
   "source": [
    "import os\n",
    "\n",
    "from sklearn.metrics import accuracy_score, classification_report\n",
    "\n",
    "from utils import utils\n",
    "from models import resnet_50\n"
   ]
  },
  {
   "attachments": {},
   "cell_type": "markdown",
   "id": "491a75b4",
   "metadata": {},
   "source": [
    "## Experiment settings"
   ]
  },
  {
   "cell_type": "code",
   "execution_count": 2,
   "id": "7939dadf",
   "metadata": {},
   "outputs": [],
   "source": [
    "CONFIG_YML = \"../experiments/exp_004/config.yml\"\n",
    "WEIGHTS = \"../experiments/exp_004/model.45-1.3484.h5\""
   ]
  },
  {
   "cell_type": "code",
   "execution_count": 3,
   "id": "afc06ab4",
   "metadata": {
    "scrolled": true
   },
   "outputs": [
    {
     "data": {
      "text/plain": [
       "{'seed': 123,\n",
       " 'data': {'directory': '/home/app/src/data/car_ims_v2/train',\n",
       "  'labels': 'inferred',\n",
       "  'label_mode': 'categorical',\n",
       "  'validation_split': 0.2,\n",
       "  'image_size': [224, 224],\n",
       "  'batch_size': 32},\n",
       " 'model': {'weights': 'imagenet',\n",
       "  'input_shape': [224, 224, 3],\n",
       "  'classes': 196,\n",
       "  'dropout_rate': 0.35,\n",
       "  'data_aug_layer': {'random_flip': {'mode': 'horizontal'},\n",
       "   'random_rotation': {'factor': 0.1},\n",
       "   'random_zoom': {'height_factor': 0.2, 'width_factor': 0.2},\n",
       "   'random_contrast': {'factor': [0.2, 0.5]}}},\n",
       " 'compile': {'optimizer': {'sgd': {'learning_rate': 0.0005, 'momentum': 0.98}},\n",
       "  'loss': 'categorical_crossentropy',\n",
       "  'metrics': ['accuracy']},\n",
       " 'fit': {'epochs': 50,\n",
       "  'callbacks': {'model_checkpoint': {'filepath': '/home/app/src/experiments/exp_004/model.{epoch:02d}-{val_loss:.4f}.h5',\n",
       "    'save_best_only': True},\n",
       "   'tensor_board': {'log_dir': '/home/app/src/experiments/exp_004/logs'},\n",
       "   'early_stopping': {'monitor': 'val_loss',\n",
       "    'patience': 3,\n",
       "    'mode': 'min',\n",
       "    'restore_best_weights': True}}}}"
      ]
     },
     "execution_count": 3,
     "metadata": {},
     "output_type": "execute_result"
    }
   ],
   "source": [
    "config = utils.load_config(CONFIG_YML)\n",
    "config"
   ]
  },
  {
   "cell_type": "code",
   "execution_count": 4,
   "id": "119134a3",
   "metadata": {},
   "outputs": [
    {
     "data": {
      "text/plain": [
       "196"
      ]
     },
     "execution_count": 4,
     "metadata": {},
     "output_type": "execute_result"
    }
   ],
   "source": [
    "config['model']['classes']"
   ]
  },
  {
   "cell_type": "code",
   "execution_count": 5,
   "id": "435199e0",
   "metadata": {},
   "outputs": [],
   "source": [
    "MODEL_CLASSES = utils.get_class_names(config)\n",
    "\n",
    "if len(MODEL_CLASSES) != config['model']['classes']:\n",
    "    raise ValueError(\n",
    "        \"Number of classes doesn't match between your model \"\n",
    "        \"and your data!\"\n",
    "    )\n",
    "\n",
    "_dirname, _ = os.path.split(config['data']['directory'])\n",
    "TEST_FOLDER = os.path.join(_dirname, 'test')\n",
    "\n",
    "if not os.path.exists(TEST_FOLDER):\n",
    "    raise ValueError(\"'test' folder not found!\")\n",
    "    \n",
    "if len(os.listdir(TEST_FOLDER)) != config['model']['classes']:\n",
    "    raise ValueError(\n",
    "        \"Number of classes doesn't match between your model \"\n",
    "        \"and your testing dataset!\"\n",
    "    )\n",
    "    \n",
    "if set(os.listdir(TEST_FOLDER)) != set(MODEL_CLASSES):\n",
    "    raise ValueError(\n",
    "        \"The name of the subfolders inside your test set \"\n",
    "        \"doesn't match with the model classes!\"\n",
    "    )"
   ]
  },
  {
   "attachments": {},
   "cell_type": "markdown",
   "id": "85511441",
   "metadata": {},
   "source": [
    "## Load your model"
   ]
  },
  {
   "cell_type": "code",
   "execution_count": 7,
   "id": "12f91894",
   "metadata": {
    "scrolled": true
   },
   "outputs": [
    {
     "name": "stdout",
     "output_type": "stream",
     "text": [
      "Model: \"model\"\n",
      "_________________________________________________________________\n",
      " Layer (type)                Output Shape              Param #   \n",
      "=================================================================\n",
      " input_1 (InputLayer)        [(None, 224, 224, 3)]     0         \n",
      "                                                                 \n",
      " sequential (Sequential)     (None, 224, 224, 3)       0         \n",
      "                                                                 \n",
      " tf.__operators__.getitem (S  (None, 224, 224, 3)      0         \n",
      " licingOpLambda)                                                 \n",
      "                                                                 \n",
      " tf.nn.bias_add (TFOpLambda)  (None, 224, 224, 3)      0         \n",
      "                                                                 \n",
      " resnet50 (Functional)       (None, 2048)              23587712  \n",
      "                                                                 \n",
      " dropout (Dropout)           (None, 2048)              0         \n",
      "                                                                 \n",
      " dense (Dense)               (None, 196)               401604    \n",
      "                                                                 \n",
      "=================================================================\n",
      "Total params: 23,989,316\n",
      "Trainable params: 23,936,196\n",
      "Non-trainable params: 53,120\n",
      "_________________________________________________________________\n",
      "None\n"
     ]
    }
   ],
   "source": [
    "cnn_model = resnet_50.create_model(weights=WEIGHTS)\n",
    "\n",
    "print(cnn_model.summary())"
   ]
  },
  {
   "cell_type": "markdown",
   "id": "b6a33cbb",
   "metadata": {},
   "source": [
    "## Get predictions from testing dataset"
   ]
  },
  {
   "cell_type": "code",
   "execution_count": 11,
   "id": "cce894dd",
   "metadata": {},
   "outputs": [],
   "source": [
    "predictions, labels = utils.predict_from_folder(\n",
    "    folder=TEST_FOLDER, \n",
    "    model=cnn_model, \n",
    "    input_size=config[\"data\"][\"image_size\"], \n",
    "    class_names=MODEL_CLASSES,\n",
    ")\n",
    "\n",
    "if len(predictions) != len(labels):\n",
    "    raise ValueError(\n",
    "        \"The lenght of predictions and labels lists doesn't match!\"\n",
    "    )\n",
    "\n",
    "if not isinstance(predictions[0], str):\n",
    "    raise ValueError(\n",
    "        \"Model predictions should be represented as string. E.g: 'Acura RL Sedan 2012'\"\n",
    "    )\n",
    "\n",
    "if not isinstance(labels[0], str):\n",
    "    raise ValueError(\n",
    "        \"Ground true labels should be represented as string. E.g: 'Acura RL Sedan 2012'\"\n",
    "    )\n"
   ]
  },
  {
   "cell_type": "code",
   "execution_count": 12,
   "id": "52b06098",
   "metadata": {
    "scrolled": true
   },
   "outputs": [
    {
     "name": "stdout",
     "output_type": "stream",
     "text": [
      "                                                        precision    recall  f1-score   support\n",
      "\n",
      "                            AM General Hummer SUV 2000       0.70      0.91      0.79        44\n",
      "                             Acura Integra Type R 2001       0.88      0.80      0.83        44\n",
      "                                   Acura RL Sedan 2012       0.50      0.56      0.53        32\n",
      "                                   Acura TL Sedan 2012       0.83      0.91      0.87        43\n",
      "                                  Acura TL Type-S 2008       0.75      0.95      0.84        42\n",
      "                                  Acura TSX Sedan 2012       1.00      0.30      0.46        40\n",
      "                              Acura ZDX Hatchback 2012       0.78      0.82      0.80        39\n",
      "              Aston Martin V8 Vantage Convertible 2012       0.54      0.56      0.55        45\n",
      "                    Aston Martin V8 Vantage Coupe 2012       0.80      0.49      0.61        41\n",
      "                  Aston Martin Virage Convertible 2012       0.43      0.64      0.51        33\n",
      "                        Aston Martin Virage Coupe 2012       0.84      0.84      0.84        38\n",
      "                                   Audi 100 Sedan 1994       0.49      0.45      0.47        40\n",
      "                                   Audi 100 Wagon 1994       0.36      0.40      0.38        42\n",
      "                                    Audi A5 Coupe 2012       0.68      0.83      0.75        41\n",
      "                                    Audi R8 Coupe 2012       0.94      0.72      0.82        43\n",
      "                            Audi RS 4 Convertible 2008       0.63      0.53      0.58        36\n",
      "                                    Audi S4 Sedan 2007       0.55      0.80      0.65        45\n",
      "                                    Audi S4 Sedan 2012       0.67      0.41      0.51        39\n",
      "                              Audi S5 Convertible 2012       0.59      0.45      0.51        42\n",
      "                                    Audi S5 Coupe 2012       0.75      0.21      0.33        42\n",
      "                                    Audi S6 Sedan 2011       0.94      0.63      0.75        46\n",
      "                                Audi TT Hatchback 2011       0.80      0.10      0.18        40\n",
      "                                 Audi TT RS Coupe 2012       0.41      0.92      0.57        39\n",
      "                                   Audi TTS Coupe 2012       0.40      0.55      0.46        42\n",
      "                                    Audi V8 Sedan 1994       0.92      0.51      0.66        43\n",
      "                         BMW 1 Series Convertible 2012       0.85      0.83      0.84        35\n",
      "                               BMW 1 Series Coupe 2012       0.89      0.80      0.85        41\n",
      "                               BMW 3 Series Sedan 2012       0.52      0.60      0.56        42\n",
      "                               BMW 3 Series Wagon 2012       0.49      0.90      0.63        41\n",
      "                         BMW 6 Series Convertible 2007       0.69      0.66      0.67        44\n",
      "                         BMW ActiveHybrid 5 Sedan 2012       0.88      0.65      0.75        34\n",
      "                                     BMW M3 Coupe 2012       0.88      0.48      0.62        44\n",
      "                                     BMW M5 Sedan 2010       0.55      0.95      0.70        41\n",
      "                               BMW M6 Convertible 2010       0.39      0.85      0.53        41\n",
      "                                       BMW X3 SUV 2012       0.69      0.97      0.80        38\n",
      "                                       BMW X5 SUV 2007       0.97      0.73      0.83        41\n",
      "                                       BMW X6 SUV 2012       0.96      0.57      0.72        42\n",
      "                               BMW Z4 Convertible 2012       0.86      0.45      0.59        40\n",
      "                             Bentley Arnage Sedan 2009       0.80      0.72      0.76        39\n",
      "            Bentley Continental Flying Spur Sedan 2007       0.73      0.75      0.74        44\n",
      "                     Bentley Continental GT Coupe 2007       0.75      0.46      0.57        46\n",
      "                     Bentley Continental GT Coupe 2012       0.67      0.88      0.76        34\n",
      "Bentley Continental Supersports Conv. Convertible 2012       0.84      0.72      0.78        36\n",
      "                           Bentley Mulsanne Sedan 2011       0.89      0.71      0.79        35\n",
      "                  Bugatti Veyron 16.4 Convertible 2009       0.76      0.59      0.67        32\n",
      "                        Bugatti Veyron 16.4 Coupe 2009       0.81      0.67      0.73        43\n",
      "                                Buick Enclave SUV 2012       0.80      0.88      0.84        42\n",
      "                                Buick Rainier SUV 2007       0.97      0.81      0.88        42\n",
      "                                   Buick Regal GS 2012       1.00      0.66      0.79        35\n",
      "                               Buick Verano Sedan 2012       0.82      0.97      0.89        37\n",
      "                             Cadillac CTS-V Sedan 2012       0.90      0.88      0.89        43\n",
      "                   Cadillac Escalade EXT Crew Cab 2007       0.90      0.82      0.86        44\n",
      "                                 Cadillac SRX SUV 2012       1.00      0.95      0.97        41\n",
      "                     Chevrolet Avalanche Crew Cab 2012       0.59      0.91      0.71        45\n",
      "                     Chevrolet Camaro Convertible 2012       0.97      0.66      0.78        44\n",
      "                              Chevrolet Cobalt SS 2010       0.92      0.80      0.86        41\n",
      "                   Chevrolet Corvette Convertible 2012       0.55      0.44      0.49        39\n",
      "       Chevrolet Corvette Ron Fellows Edition Z06 2007       0.85      0.59      0.70        37\n",
      "                           Chevrolet Corvette ZR1 2012       0.88      0.46      0.60        46\n",
      "                      Chevrolet Express Cargo Van 2007       0.46      0.38      0.42        29\n",
      "                            Chevrolet Express Van 2007       0.52      0.40      0.45        35\n",
      "                                 Chevrolet HHR SS 2010       0.97      0.78      0.86        36\n",
      "                           Chevrolet Impala Sedan 2007       0.86      0.86      0.86        43\n",
      "                    Chevrolet Malibu Hybrid Sedan 2010       1.00      0.71      0.83        38\n",
      "                           Chevrolet Malibu Sedan 2007       1.00      0.41      0.58        44\n",
      "                      Chevrolet Monte Carlo Coupe 2007       0.97      0.73      0.84        45\n",
      "    Chevrolet Silverado 1500 Classic Extended Cab 2007       0.79      0.88      0.83        42\n",
      "            Chevrolet Silverado 1500 Extended Cab 2012       0.70      0.37      0.48        43\n",
      "         Chevrolet Silverado 1500 Hybrid Crew Cab 2012       0.52      0.68      0.59        40\n",
      "             Chevrolet Silverado 1500 Regular Cab 2012       0.50      0.66      0.57        44\n",
      "           Chevrolet Silverado 2500HD Regular Cab 2012       0.52      0.34      0.41        38\n",
      "                            Chevrolet Sonic Sedan 2012       0.75      0.95      0.84        44\n",
      "                       Chevrolet Tahoe Hybrid SUV 2012       0.79      0.30      0.43        37\n",
      "                         Chevrolet TrailBlazer SS 2009       0.91      0.53      0.67        40\n",
      "                           Chevrolet Traverse SUV 2012       0.94      0.73      0.82        44\n",
      "                               Chrysler 300 SRT-8 2010       0.79      0.92      0.85        48\n",
      "                               Chrysler Aspen SUV 2009       0.75      0.95      0.84        43\n",
      "                   Chrysler Crossfire Convertible 2008       0.93      0.63      0.75        43\n",
      "                  Chrysler PT Cruiser Convertible 2008       1.00      0.84      0.92        45\n",
      "                     Chrysler Sebring Convertible 2010       0.34      0.95      0.50        40\n",
      "                Chrysler Town and Country Minivan 2012       0.56      0.92      0.69        37\n",
      "                              Daewoo Nubira Wagon 2002       0.97      0.71      0.82        45\n",
      "                              Dodge Caliber Wagon 2007       0.73      0.76      0.74        42\n",
      "                              Dodge Caliber Wagon 2012       0.68      0.57      0.62        40\n",
      "                            Dodge Caravan Minivan 1997       1.00      0.77      0.87        43\n",
      "                            Dodge Challenger SRT8 2011       0.91      0.74      0.82        39\n",
      "                              Dodge Charger SRT-8 2009       0.85      0.67      0.75        42\n",
      "                              Dodge Charger Sedan 2012       0.77      0.83      0.80        41\n",
      "                            Dodge Dakota Club Cab 2007       0.76      0.76      0.76        38\n",
      "                            Dodge Dakota Crew Cab 2010       0.97      0.73      0.83        41\n",
      "                                Dodge Durango SUV 2007       0.84      0.84      0.84        45\n",
      "                                Dodge Durango SUV 2012       0.59      0.95      0.73        43\n",
      "                                Dodge Journey SUV 2012       1.00      0.93      0.96        44\n",
      "                               Dodge Magnum Wagon 2008       0.96      0.68      0.79        40\n",
      "                   Dodge Ram Pickup 3500 Crew Cab 2010       0.97      0.81      0.88        42\n",
      "                   Dodge Ram Pickup 3500 Quad Cab 2009       0.64      0.61      0.63        44\n",
      "                         Dodge Sprinter Cargo Van 2009       0.81      0.56      0.67        39\n",
      "                            Eagle Talon Hatchback 1998       0.92      0.74      0.82        46\n",
      "                                  FIAT 500 Abarth 2012       1.00      0.96      0.98        27\n",
      "                             FIAT 500 Convertible 2012       0.97      0.85      0.90        33\n",
      "                   Ferrari 458 Italia Convertible 2012       0.57      0.62      0.59        39\n",
      "                         Ferrari 458 Italia Coupe 2012       0.68      0.55      0.61        42\n",
      "                   Ferrari California Convertible 2012       0.81      0.97      0.88        39\n",
      "                                 Ferrari FF Coupe 2012       0.83      0.83      0.83        42\n",
      "                               Fisker Karma Sedan 2012       0.97      0.84      0.90        43\n",
      "                          Ford E-Series Wagon Van 2012       1.00      0.92      0.96        37\n",
      "                                    Ford Edge SUV 2012       0.94      0.70      0.80        43\n",
      "                           Ford Expedition EL SUV 2009       0.97      0.77      0.86        44\n",
      "                           Ford F-150 Regular Cab 2007       1.00      0.64      0.78        45\n",
      "                           Ford F-150 Regular Cab 2012       0.91      0.93      0.92        42\n",
      "                   Ford F-450 Super Duty Crew Cab 2012       0.94      0.80      0.87        41\n",
      "                                Ford Fiesta Sedan 2012       0.89      0.76      0.82        42\n",
      "                                 Ford Focus Sedan 2007       0.87      0.73      0.80        45\n",
      "                            Ford Freestar Minivan 2007       0.89      0.75      0.81        44\n",
      "                                    Ford GT Coupe 2006       0.57      0.76      0.65        45\n",
      "                         Ford Mustang Convertible 2007       1.00      0.59      0.74        44\n",
      "                             Ford Ranger SuperCab 2011       0.92      0.79      0.85        42\n",
      "                                   GMC Acadia SUV 2012       0.79      0.86      0.83        44\n",
      "                          GMC Canyon Extended Cab 2012       0.58      0.88      0.70        40\n",
      "                                   GMC Savana Van 2012       0.73      0.76      0.75        68\n",
      "                                  GMC Terrain SUV 2012       0.86      0.93      0.89        41\n",
      "                             GMC Yukon Hybrid SUV 2012       0.97      0.79      0.87        42\n",
      "                            Geo Metro Convertible 1993       0.90      0.82      0.86        44\n",
      "                           HUMMER H2 SUT Crew Cab 2009       1.00      0.40      0.57        43\n",
      "                              HUMMER H3T Crew Cab 2010       0.56      0.77      0.65        39\n",
      "                               Honda Accord Coupe 2012       0.97      0.82      0.89        39\n",
      "                               Honda Accord Sedan 2012       0.83      0.76      0.79        38\n",
      "                            Honda Odyssey Minivan 2007       0.81      0.83      0.82        41\n",
      "                            Honda Odyssey Minivan 2012       0.78      0.83      0.80        42\n",
      "                             Hyundai Accent Sedan 2012       0.67      0.67      0.67        24\n",
      "                              Hyundai Azera Sedan 2012       0.69      0.83      0.75        42\n",
      "                            Hyundai Elantra Sedan 2007       0.80      0.88      0.84        42\n",
      "                Hyundai Elantra Touring Hatchback 2012       1.00      0.88      0.94        42\n",
      "                            Hyundai Genesis Sedan 2012       0.82      0.93      0.87        43\n",
      "                             Hyundai Santa Fe SUV 2012       0.97      0.79      0.87        42\n",
      "                      Hyundai Sonata Hybrid Sedan 2012       0.59      0.97      0.74        33\n",
      "                             Hyundai Sonata Sedan 2012       0.84      0.92      0.88        39\n",
      "                               Hyundai Tucson SUV 2012       0.86      0.86      0.86        43\n",
      "                       Hyundai Veloster Hatchback 2012       0.86      0.93      0.89        41\n",
      "                             Hyundai Veracruz SUV 2012       0.78      0.76      0.77        42\n",
      "                             Infiniti G Coupe IPL 2012       0.96      0.71      0.81        34\n",
      "                                Infiniti QX56 SUV 2011       0.90      0.84      0.87        32\n",
      "                               Isuzu Ascender SUV 2008       0.88      0.95      0.92        40\n",
      "                                    Jaguar XK XKR 2012       1.00      0.85      0.92        46\n",
      "                                 Jeep Compass SUV 2012       0.66      0.90      0.76        42\n",
      "                          Jeep Grand Cherokee SUV 2012       0.86      0.80      0.83        45\n",
      "                                 Jeep Liberty SUV 2012       0.91      0.45      0.61        44\n",
      "                                 Jeep Patriot SUV 2012       0.52      0.86      0.65        44\n",
      "                                Jeep Wrangler SUV 2012       1.00      0.67      0.81        43\n",
      "                      Lamborghini Aventador Coupe 2012       0.68      0.49      0.57        43\n",
      "                         Lamborghini Diablo Coupe 2001       0.47      0.93      0.62        44\n",
      "       Lamborghini Gallardo LP 570-4 Superleggera 2012       0.90      0.77      0.83        35\n",
      "                       Lamborghini Reventon Coupe 2008       0.31      0.94      0.47        36\n",
      "                               Land Rover LR2 SUV 2012       0.73      0.88      0.80        42\n",
      "                       Land Rover Range Rover SUV 2012       0.77      0.98      0.86        42\n",
      "                           Lincoln Town Car Sedan 2011       0.67      0.95      0.79        39\n",
      "                 MINI Cooper Roadster Convertible 2012       0.97      0.89      0.93        36\n",
      "                    Maybach Landaulet Convertible 2012       0.59      0.90      0.71        29\n",
      "                                Mazda Tribute SUV 2011       0.76      0.86      0.81        36\n",
      "                            McLaren MP4-12C Coupe 2012       0.63      0.93      0.75        44\n",
      "              Mercedes-Benz 300-Class Convertible 1993       0.68      0.96      0.79        48\n",
      "                      Mercedes-Benz C-Class Sedan 2012       1.00      0.33      0.50        45\n",
      "                      Mercedes-Benz E-Class Sedan 2012       0.66      0.72      0.69        43\n",
      "                      Mercedes-Benz S-Class Sedan 2012       1.00      0.80      0.89        44\n",
      "                     Mercedes-Benz SL-Class Coupe 2009       0.56      0.83      0.67        36\n",
      "                       Mercedes-Benz Sprinter Van 2012       0.75      0.95      0.84        41\n",
      "                          Mitsubishi Lancer Sedan 2012       0.80      0.85      0.82        47\n",
      "                               Nissan 240SX Coupe 1998       0.92      0.76      0.83        46\n",
      "                            Nissan Juke Hatchback 2012       0.92      0.77      0.84        44\n",
      "                            Nissan Leaf Hatchback 2012       0.84      0.86      0.85        42\n",
      "                          Nissan NV Passenger Van 2012       0.92      0.92      0.92        38\n",
      "                              Plymouth Neon Coupe 1999       0.93      0.93      0.93        44\n",
      "                           Porsche Panamera Sedan 2012       0.83      0.93      0.88        43\n",
      "                        Ram C-V Cargo Van Minivan 2012       0.83      0.85      0.84        41\n",
      "                          Rolls-Royce Ghost Sedan 2012       0.53      0.92      0.67        38\n",
      "   Rolls-Royce Phantom Drophead Coupe Convertible 2012       0.84      0.70      0.76        30\n",
      "                        Rolls-Royce Phantom Sedan 2012       0.94      0.34      0.50        44\n",
      "                               Scion xD Hatchback 2012       0.81      0.85      0.83        41\n",
      "                            Spyker C8 Convertible 2009       0.86      0.84      0.85        45\n",
      "                                  Spyker C8 Coupe 2009       0.78      0.74      0.76        42\n",
      "                               Suzuki Aerio Sedan 2007       0.94      0.87      0.90        38\n",
      "                             Suzuki Kizashi Sedan 2012       0.71      0.63      0.67        46\n",
      "                             Suzuki SX4 Hatchback 2012       0.77      0.79      0.78        42\n",
      "                                 Suzuki SX4 Sedan 2012       0.81      0.55      0.66        40\n",
      "                              Tesla Model S Sedan 2012       0.81      0.92      0.86        38\n",
      "                               Toyota 4Runner SUV 2012       0.91      0.75      0.82        40\n",
      "                               Toyota Camry Sedan 2012       0.58      0.88      0.70        43\n",
      "                             Toyota Corolla Sedan 2012       0.64      0.79      0.71        43\n",
      "                               Toyota Sequoia SUV 2012       0.83      0.89      0.86        38\n",
      "                      Volkswagen Beetle Hatchback 2012       1.00      0.79      0.88        42\n",
      "                        Volkswagen Golf Hatchback 1991       0.52      0.91      0.66        46\n",
      "                        Volkswagen Golf Hatchback 2012       1.00      0.84      0.91        43\n",
      "                                  Volvo 240 Sedan 1993       0.68      0.93      0.79        45\n",
      "                              Volvo C30 Hatchback 2012       0.81      0.85      0.83        41\n",
      "                                   Volvo XC90 SUV 2007       0.88      0.67      0.76        43\n",
      "                         smart fortwo Convertible 2012       1.00      0.72      0.84        40\n",
      "\n",
      "                                              accuracy                           0.75      8041\n",
      "                                             macro avg       0.79      0.75      0.75      8041\n",
      "                                          weighted avg       0.79      0.75      0.75      8041\n",
      "\n"
     ]
    }
   ],
   "source": [
    "print(classification_report(y_true=labels, y_pred=predictions))\n"
   ]
  },
  {
   "cell_type": "code",
   "execution_count": 13,
   "id": "e8342c09",
   "metadata": {},
   "outputs": [
    {
     "name": "stdout",
     "output_type": "stream",
     "text": [
      "Your model accuracy is 0.7480!\n"
     ]
    }
   ],
   "source": [
    "acc = accuracy_score(y_true=labels, y_pred=predictions)\n",
    "\n",
    "print(f\"Your model accuracy is {acc:.4f}!\")\n",
    "\n",
    "if acc < .3:\n",
    "    raise ValueError(\"Your model accuracy is too low :(\\nYou can do it better! :)\")\n"
   ]
  },
  {
   "cell_type": "code",
   "execution_count": null,
   "id": "c0ee5563",
   "metadata": {},
   "outputs": [],
   "source": [
    " "
   ]
  }
 ],
 "metadata": {
  "kernelspec": {
   "display_name": "Python 3 (ipykernel)",
   "language": "python",
   "name": "python3"
  },
  "language_info": {
   "codemirror_mode": {
    "name": "ipython",
    "version": 3
   },
   "file_extension": ".py",
   "mimetype": "text/x-python",
   "name": "python",
   "nbconvert_exporter": "python",
   "pygments_lexer": "ipython3",
   "version": "3.10.6 (main, Nov  2 2022, 18:53:38) [GCC 11.3.0]"
  },
  "vscode": {
   "interpreter": {
    "hash": "916dbcbb3f70747c44a77c7bcd40155683ae19c65e1c03b4aa3499c5328201f1"
   }
  }
 },
 "nbformat": 4,
 "nbformat_minor": 5
}
